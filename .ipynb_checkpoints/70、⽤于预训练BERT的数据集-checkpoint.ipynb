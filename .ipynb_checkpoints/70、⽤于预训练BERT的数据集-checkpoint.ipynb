{
 "cells": [
  {
   "cell_type": "markdown",
   "id": "00ceab0d",
   "metadata": {},
   "source": [
    "# 用于预训练BERT的数据集\n",
    "为了预训练14.7节中实现的BERT模型，我们需要以理想的格式⽣成数据集，以便于两个预训练任务：遮蔽语\n",
    "⾔模型和下⼀句预测。⼀⽅⾯，最初的BERT模型是在两个庞⼤的图书语料库和英语维基百科（参⻅14.7.5节\n",
    "）的合集上预训练的，但它很难吸引这本书的⼤多数读者。另⼀⽅⾯，现成的预训练BERT模型可能不适合医\n",
    "学等特定领域的应⽤。因此，在定制的数据集上对BERT进⾏预训练变得越来越流⾏。为了⽅便BERT预训练\n",
    "的演⽰，我们使⽤了较小的语料库WikiText-2 [Merity et al., 2016] 。\n",
    "与14.3节中⽤于预训练word2vec的PTB数据集相⽐，WikiText-2（1）保留了原来的标点符号，适合于下⼀句\n",
    "预测；（2）保留了原来的⼤小写和数字；（3）⼤了⼀倍以上。"
   ]
  },
  {
   "cell_type": "code",
   "execution_count": 1,
   "id": "29873983",
   "metadata": {},
   "outputs": [],
   "source": [
    "import os\n",
    "import random\n",
    "import torch\n",
    "from d2l import torch as d2l"
   ]
  },
  {
   "cell_type": "markdown",
   "id": "61b3b7c3",
   "metadata": {},
   "source": [
    "在WikiText-2数据集中，每⾏代表⼀个段落，其中在任意标点符号及其前⾯的词元之间插⼊空格。保留⾄少有两句话的段落。为了简单起⻅，我们仅使⽤句号作为分隔符来拆分句⼦。"
   ]
  },
  {
   "cell_type": "code",
   "execution_count": 2,
   "id": "1e1ccb92",
   "metadata": {},
   "outputs": [],
   "source": [
    "#@save\n",
    "d2l.DATA_HUB['wikitext-2'] = (\n",
    "    'https://s3.amazonaws.com/research.metamind.io/wikitext/'\n",
    "    'wikitext-2-v1.zip', '3c914d17d80b1459be871a5039ac23e752a53cbe')\n",
    "\n",
    "#@save\n",
    "def _read_wiki(data_dir): # 下载下来，并load进来\n",
    "    file_name = os.path.join(data_dir, 'wiki.train.tokens')\n",
    "    with open(file_name, 'r') as f:\n",
    "        lines = f.readlines()\n",
    "    \n",
    "    # ⼤写字⺟转换为⼩写字⺟\n",
    "    paragraphs = [line.strip().lower().split(' . ')\n",
    "                    for line in lines if len(line.split(' . ')) >= 2]\n",
    "    random.shuffle(paragraphs)\n",
    "    return paragraphs"
   ]
  },
  {
   "cell_type": "markdown",
   "id": "aa8bac5d",
   "metadata": {},
   "source": [
    "# 为预训练任务定义辅助函数\n",
    "_get_next_sentence函数⽣成⼆分类任务的训练样本。"
   ]
  },
  {
   "cell_type": "code",
   "execution_count": 3,
   "id": "e0bf30e7",
   "metadata": {},
   "outputs": [],
   "source": [
    "def _get_next_sentence(sentence, next_sentence, paragraphs):\n",
    "    if random.random() < 0.5: # 50%的可能性就是相邻的句子\n",
    "        is_next = True\n",
    "    else: # 50%可能性，不是相邻的句子\n",
    "        next_sentence = random.choice(random.choice(paragraphs))\n",
    "        is_next = False\n",
    "    \n",
    "    return sentence, next_sentence, is_next\n",
    "\n",
    "# 下⾯的函数通过调⽤paragraph函数从输⼊_get_next_sentence⽣成⽤于下⼀句预测的训练样本。这\n",
    "# ⾥paragraph是句⼦列表，其中每个句⼦都是词元列表。⾃变量max_len指定预训练期间的BERT输⼊序列\n",
    "# 的最⼤⻓度。\n",
    "def _get_nsp_data_from_paragraph(paragraph, paragraphs, vocab, max_len):\n",
    "    nsp_data_from_paragraph = []\n",
    "    for i in range(len(paragraph) - 1):\n",
    "        tokens_a, tokens_b, is_next = _get_next_sentence(paragraph[i], paragraph[i + 1], paragraphs)\n",
    "        if len(tokens_a) + len(tokens_b) + 3 > max_len:\n",
    "            continue\n",
    "        tokens, segments = d2l.get_tokens_and_segments(tokens_a, tokens_b)\n",
    "        nsp_data_from_paragraph.append((tokens, segments, is_next))\n",
    "    return nsp_data_from_paragraph"
   ]
  },
  {
   "cell_type": "markdown",
   "id": "83fd3315",
   "metadata": {},
   "source": [
    "# ⽣成遮蔽语⾔模型任务的数据\n",
    "为了从BERT输⼊序列⽣成遮蔽语⾔模型的训练样本，我们定义了以下_replace_mlm_tokens函数。在其\n",
    "输⼊中，tokens是表⽰BERT输⼊序列的词元的列表，candidate_pred_positions是不包括特殊词元\n",
    "的BERT输⼊序列的词元索引的列表（特殊词元在遮蔽语⾔模型任务中不被预测），以及num_mlm_preds指\n",
    "⽰预测的数量（选择15%要预测的随机词元）。在14.7.5节中定义遮蔽语⾔模型任务之后，在每个预测位置，\n",
    "输⼊可以由特殊的“掩码”词元或随机词元替换，或者保持不变。最后，该函数返回可能替换后的输⼊词元、\n",
    "发⽣预测的词元索引和这些预测的标签。"
   ]
  },
  {
   "cell_type": "code",
   "execution_count": null,
   "id": "d0a65386",
   "metadata": {},
   "outputs": [],
   "source": [
    "def _replace_mlm_tokens(tokens, candidate_pred_positions, num_mlm_preds, vocab):\n",
    "    \"\"\"随机遮蔽一些词\"\"\"\n",
    "    # 为遮蔽语⾔模型的输⼊创建新的词元副本，其中输⼊可能包含替换的“<mask>”或随机词元\n",
    "    mlm_input_tokens = [token for token in tokens]\n",
    "    pred_positions_and_labels = []\n",
    "    # 打乱后⽤于在遮蔽语⾔模型任务中获取15%的随机词元进⾏预测\n",
    "    random.shuffle(candidate_pred_positions)\n",
    "    for mlm_pred_position in candidate_pred_positions:\n",
    "        if len(pred_positions_and_labels) >= num_mlm_preds:\n",
    "            break\n",
    "        masked_token = None\n",
    "        # 80%的时间：将词替换为“<mask>”词元\n",
    "        if random.random() < 0.8:\n",
    "            masked_token = '<mask>'\n",
    "        else:\n",
    "            # 10%的时间：保持词不变\n",
    "            if random.random() < 0.5:\n",
    "                masked_token = tokens[mlm_pred_position]\n",
    "            # 10%的时间：⽤随机词替换该词\n",
    "            else:\n",
    "                masked_token = random.randint(0, len(vocab) - 1)\n",
    "        mlm_input_tokens[mlm_pred_position] = masked_token\n",
    "        pred_positions_and_labels.append(\n",
    "            (mlm_pred_position, tokens[mlm_pred_position]))\n",
    "    return mlm_input_tokens, pred_positions_and_labels\n",
    "\n",
    "\"\"\"\n",
    "通过调⽤前述的_replace_mlm_tokens函数，以下函数将BERT输⼊序列（tokens）作为输⼊，并返回输\n",
    "⼊词元的索引（在14.7.5节中描述的可能的词元替换之后）、发⽣预测的词元索引以及这些预测的标签索引。\n",
    "\"\"\"\n",
    "\n",
    "def _get_mlm_data_from_tokens(tokens, vocab):\n",
    "    candidate_pred_positions = []\n",
    "    for i, token in enumerate(tokens):\n",
    "        if token in ['<cls>', '<sep>']:\n",
    "            continue\n",
    "        candidate_pred_positions.append(i)\n",
    "    num_mlm_preds = max(1, round(len(tokens) * 0.15))\n",
    "    mlm_input_tokens, pred_positions_and_labels = _replace_mlm_tokens(\n",
    "        tokens, candidate_pred_positions, num_mlm_preds, vocab)\n",
    "    pred_positions_and_labels = sorted(pred_positions_and_labels,\n",
    "                                       key=lambda x: x[0])\n",
    "    pred_positions = [v[0] for v in pred_positions_and_labels]\n",
    "    mlm_pred_labels = [v[1] for v in pred_positions_and_labels]\n",
    "    return vocab[mlm_input_tokens], pred_positions, vocab[mlm_pred_labels]"
   ]
  },
  {
   "cell_type": "code",
   "execution_count": null,
   "id": "2b7712fa",
   "metadata": {},
   "outputs": [],
   "source": []
  },
  {
   "cell_type": "code",
   "execution_count": null,
   "id": "d09a6634",
   "metadata": {},
   "outputs": [],
   "source": []
  },
  {
   "cell_type": "code",
   "execution_count": null,
   "id": "c00b1fec",
   "metadata": {},
   "outputs": [],
   "source": []
  },
  {
   "cell_type": "code",
   "execution_count": null,
   "id": "ee6f4f9f",
   "metadata": {},
   "outputs": [],
   "source": []
  },
  {
   "cell_type": "code",
   "execution_count": null,
   "id": "6efd6f8d",
   "metadata": {},
   "outputs": [],
   "source": []
  },
  {
   "cell_type": "code",
   "execution_count": null,
   "id": "4908661b",
   "metadata": {},
   "outputs": [],
   "source": []
  },
  {
   "cell_type": "code",
   "execution_count": null,
   "id": "c2249d31",
   "metadata": {},
   "outputs": [],
   "source": []
  }
 ],
 "metadata": {
  "kernelspec": {
   "display_name": "Python 3",
   "language": "python",
   "name": "python3"
  },
  "language_info": {
   "codemirror_mode": {
    "name": "ipython",
    "version": 3
   },
   "file_extension": ".py",
   "mimetype": "text/x-python",
   "name": "python",
   "nbconvert_exporter": "python",
   "pygments_lexer": "ipython3",
   "version": "3.8.8"
  }
 },
 "nbformat": 4,
 "nbformat_minor": 5
}
