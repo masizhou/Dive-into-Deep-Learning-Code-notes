{
 "cells": [
  {
   "cell_type": "markdown",
   "id": "d12eb209",
   "metadata": {},
   "source": [
    "# 用于预训练BERT的数据集\n",
    "为了预训练14.7节中实现的BERT模型，我们需要以理想的格式⽣成数据集，以便于两个预训练任务：遮蔽语\n",
    "⾔模型和下⼀句预测。⼀⽅⾯，最初的BERT模型是在两个庞⼤的图书语料库和英语维基百科（参⻅14.7.5节\n",
    "）的合集上预训练的，但它很难吸引这本书的⼤多数读者。另⼀⽅⾯，现成的预训练BERT模型可能不适合医\n",
    "学等特定领域的应⽤。因此，在定制的数据集上对BERT进⾏预训练变得越来越流⾏。为了⽅便BERT预训练\n",
    "的演⽰，我们使⽤了较小的语料库WikiText-2 [Merity et al., 2016] 。\n",
    "与14.3节中⽤于预训练word2vec的PTB数据集相⽐，WikiText-2（1）保留了原来的标点符号，适合于下⼀句\n",
    "预测；（2）保留了原来的⼤小写和数字；（3）⼤了⼀倍以上。"
   ]
  },
  {
   "cell_type": "code",
   "execution_count": 1,
   "id": "573ee1cc",
   "metadata": {},
   "outputs": [],
   "source": [
    "import os\n",
    "import random\n",
    "import torch\n",
    "from d2l import torch as d2l"
   ]
  },
  {
   "cell_type": "markdown",
   "id": "ff757ddf",
   "metadata": {},
   "source": [
    "在WikiText-2数据集中，每⾏代表⼀个段落，其中在任意标点符号及其前⾯的词元之间插⼊空格。保留⾄少有两句话的段落。为了简单起⻅，我们仅使⽤句号作为分隔符来拆分句⼦。"
   ]
  },
  {
   "cell_type": "code",
   "execution_count": 4,
   "id": "90ff9aae",
   "metadata": {},
   "outputs": [],
   "source": [
    "#@save\n",
    "d2l.DATA_HUB['wikitext-2'] = (\n",
    "    'https://s3.amazonaws.com/research.metamind.io/wikitext/'\n",
    "    'wikitext-2-v1.zip', '3c914d17d80b1459be871a5039ac23e752a53cbe')\n",
    "\n",
    "#@save\n",
    "def _read_wiki(data_dir): # 下载下来，并load进来\n",
    "    file_name = os.path.join(data_dir, 'wiki.train.tokens')\n",
    "    with open(file_name, 'r', encoding='UTF-8') as f:\n",
    "        lines = f.readlines()\n",
    "    \n",
    "    # ⼤写字⺟转换为⼩写字⺟\n",
    "    paragraphs = [line.strip().lower().split(' . ')\n",
    "                    for line in lines if len(line.split(' . ')) >= 2]\n",
    "    random.shuffle(paragraphs)\n",
    "    return paragraphs"
   ]
  },
  {
   "cell_type": "markdown",
   "id": "02d9e5e9",
   "metadata": {},
   "source": [
    "# 为预训练任务定义辅助函数\n",
    "_get_next_sentence函数⽣成⼆分类任务的训练样本。"
   ]
  },
  {
   "cell_type": "code",
   "execution_count": 5,
   "id": "341cf5f0",
   "metadata": {},
   "outputs": [],
   "source": [
    "def _get_next_sentence(sentence, next_sentence, paragraphs):\n",
    "    if random.random() < 0.5: # 50%的可能性就是相邻的句子\n",
    "        is_next = True\n",
    "    else: # 50%可能性，不是相邻的句子\n",
    "        next_sentence = random.choice(random.choice(paragraphs))\n",
    "        is_next = False\n",
    "    \n",
    "    return sentence, next_sentence, is_next\n",
    "\n",
    "# 下⾯的函数通过调⽤paragraph函数从输⼊_get_next_sentence⽣成⽤于下⼀句预测的训练样本。这\n",
    "# ⾥paragraph是句⼦列表，其中每个句⼦都是词元列表。⾃变量max_len指定预训练期间的BERT输⼊序列\n",
    "# 的最⼤⻓度。\n",
    "def _get_nsp_data_from_paragraph(paragraph, paragraphs, vocab, max_len):\n",
    "    nsp_data_from_paragraph = []\n",
    "    for i in range(len(paragraph) - 1):\n",
    "        tokens_a, tokens_b, is_next = _get_next_sentence(paragraph[i], paragraph[i + 1], paragraphs)\n",
    "        if len(tokens_a) + len(tokens_b) + 3 > max_len:\n",
    "            continue\n",
    "        tokens, segments = d2l.get_tokens_and_segments(tokens_a, tokens_b)\n",
    "        nsp_data_from_paragraph.append((tokens, segments, is_next))\n",
    "    return nsp_data_from_paragraph"
   ]
  },
  {
   "cell_type": "markdown",
   "id": "859af3c4",
   "metadata": {},
   "source": [
    "# ⽣成遮蔽语⾔模型任务的数据\n",
    "为了从BERT输⼊序列⽣成遮蔽语⾔模型的训练样本，我们定义了以下_replace_mlm_tokens函数。在其\n",
    "输⼊中，tokens是表⽰BERT输⼊序列的词元的列表，candidate_pred_positions是不包括特殊词元\n",
    "的BERT输⼊序列的词元索引的列表（特殊词元在遮蔽语⾔模型任务中不被预测），以及num_mlm_preds指\n",
    "⽰预测的数量（选择15%要预测的随机词元）。在14.7.5节中定义遮蔽语⾔模型任务之后，在每个预测位置，\n",
    "输⼊可以由特殊的“掩码”词元或随机词元替换，或者保持不变。最后，该函数返回可能替换后的输⼊词元、\n",
    "发⽣预测的词元索引和这些预测的标签。"
   ]
  },
  {
   "cell_type": "code",
   "execution_count": 6,
   "id": "89af3695",
   "metadata": {},
   "outputs": [],
   "source": [
    "def _replace_mlm_tokens(tokens, candidate_pred_positions, num_mlm_preds, vocab):\n",
    "    \"\"\"随机遮蔽一些词\"\"\"\n",
    "    # 为遮蔽语⾔模型的输⼊创建新的词元副本，其中输⼊可能包含替换的“<mask>”或随机词元\n",
    "    mlm_input_tokens = [token for token in tokens]\n",
    "    pred_positions_and_labels = []\n",
    "    # 打乱后⽤于在遮蔽语⾔模型任务中获取15%的随机词元进⾏预测\n",
    "    random.shuffle(candidate_pred_positions)\n",
    "    for mlm_pred_position in candidate_pred_positions:\n",
    "        if len(pred_positions_and_labels) >= num_mlm_preds:\n",
    "            break\n",
    "        masked_token = None\n",
    "        # 80%的时间：将词替换为“<mask>”词元\n",
    "        if random.random() < 0.8:\n",
    "            masked_token = '<mask>'\n",
    "        else:\n",
    "            # 10%的时间：保持词不变\n",
    "            if random.random() < 0.5:\n",
    "                masked_token = tokens[mlm_pred_position]\n",
    "            # 10%的时间：⽤随机词替换该词\n",
    "            else:\n",
    "                masked_token = random.randint(0, len(vocab) - 1)\n",
    "        mlm_input_tokens[mlm_pred_position] = masked_token\n",
    "        pred_positions_and_labels.append(\n",
    "            (mlm_pred_position, tokens[mlm_pred_position]))\n",
    "    return mlm_input_tokens, pred_positions_and_labels\n",
    "\n",
    "\"\"\"\n",
    "通过调⽤前述的_replace_mlm_tokens函数，以下函数将BERT输⼊序列（tokens）作为输⼊，并返回输\n",
    "⼊词元的索引（在前面描述的可能的词元替换之后）、发⽣预测的词元索引以及这些预测的标签索引。\n",
    "\"\"\"\n",
    "\n",
    "def _get_mlm_data_from_tokens(tokens, vocab):\n",
    "    candidate_pred_positions = []\n",
    "    # `tokens`是⼀个字符串列表\n",
    "    for i, token in enumerate(tokens):\n",
    "        # 在遮蔽语⾔模型任务中不会预测特殊词元\n",
    "        if token in ['<cls>', '<sep>']:\n",
    "            continue\n",
    "        candidate_pred_positions.append(i)\n",
    "    # 遮蔽语⾔模型任务中预测15%的随机词元\n",
    "    num_mlm_preds = max(1, round(len(tokens) * 0.15))\n",
    "    mlm_input_tokens, pred_positions_and_labels = _replace_mlm_tokens(\n",
    "        tokens, candidate_pred_positions, num_mlm_preds, vocab)\n",
    "    pred_positions_and_labels = sorted(pred_positions_and_labels,\n",
    "                                       key=lambda x: x[0])\n",
    "    pred_positions = [v[0] for v in pred_positions_and_labels]\n",
    "    mlm_pred_labels = [v[1] for v in pred_positions_and_labels]\n",
    "    return vocab[mlm_input_tokens], pred_positions, vocab[mlm_pred_labels]"
   ]
  },
  {
   "cell_type": "markdown",
   "id": "292e246a",
   "metadata": {},
   "source": [
    "# 将⽂本转换为预训练数据集\n",
    "现在我们⼏乎准备好为BERT预训练定制⼀个Dataset类。在此之前， 我们仍然需要定义辅助函\n",
    "数_pad_bert_inputs来将特殊的“<mask>”词元附加到输⼊。它的参数examples包含来⾃两个预训练\n",
    "任务的辅助函数_get_nsp_data_from_paragraph和_get_mlm_data_from_tokens的输出。"
   ]
  },
  {
   "cell_type": "code",
   "execution_count": 7,
   "id": "2eb87ec2",
   "metadata": {},
   "outputs": [],
   "source": [
    "def _pad_bert_inputs(examples, max_len, vocab):\n",
    "    max_num_mlm_preds = round(max_len * 0.15)\n",
    "    all_token_ids, all_segments, valid_lens,  = [], [], []\n",
    "    all_pred_positions, all_mlm_weights, all_mlm_labels = [], [], []\n",
    "    nsp_labels = []\n",
    "    for (token_ids, pred_positions, mlm_pred_label_ids, segments,\n",
    "         is_next) in examples:\n",
    "        all_token_ids.append(torch.tensor(token_ids + [vocab['<pad>']] * (\n",
    "            max_len - len(token_ids)), dtype=torch.long))\n",
    "        all_segments.append(torch.tensor(segments + [0] * (\n",
    "            max_len - len(segments)), dtype=torch.long))\n",
    "        # `valid_lens` 不包括'<pad>'的计数\n",
    "        valid_lens.append(torch.tensor(len(token_ids), dtype=torch.float32))\n",
    "        all_pred_positions.append(torch.tensor(pred_positions + [0] * (\n",
    "            max_num_mlm_preds - len(pred_positions)), dtype=torch.long))\n",
    "        # 填充词元的预测将通过乘以0权重在损失中过滤掉\n",
    "        all_mlm_weights.append(\n",
    "            torch.tensor([1.0] * len(mlm_pred_label_ids) + [0.0] * (\n",
    "                max_num_mlm_preds - len(pred_positions)),\n",
    "                dtype=torch.float32))\n",
    "        all_mlm_labels.append(torch.tensor(mlm_pred_label_ids + [0] * (\n",
    "            max_num_mlm_preds - len(mlm_pred_label_ids)), dtype=torch.long))\n",
    "        nsp_labels.append(torch.tensor(is_next, dtype=torch.long))\n",
    "    return (all_token_ids, all_segments, valid_lens, all_pred_positions,\n",
    "            all_mlm_weights, all_mlm_labels, nsp_labels)"
   ]
  },
  {
   "cell_type": "markdown",
   "id": "684698fc",
   "metadata": {},
   "source": [
    "# The WikiText-2 dataset for pretraining BERT\n",
    "\n",
    "将⽤于⽣成两个预训练任务的训练样本的辅助函数和⽤于填充输⼊的辅助函数放在⼀起，我们定义以\n",
    "下_WikiTextDataset类为⽤于预训练BERT的WikiText-2数据集。通过实现__getitem__函数，我们可\n",
    "以任意访问WikiText-2语料库的⼀对句⼦⽣成的预训练样本（遮蔽语⾔模型和下⼀句预测）样本。\n",
    "最初的BERT模型使⽤词表⼤小为30000 的WordPiece嵌⼊ 。WordPiece的词元化⽅法是\n",
    "对subsec_Byte_Pair_Encoding 中原有的字节对编码算法稍作修改。为简单起⻅，我们使⽤d2l.\n",
    "tokenize函数进⾏词元化。出现次数少于5次的不频繁词元将被过滤掉。"
   ]
  },
  {
   "cell_type": "code",
   "execution_count": 8,
   "id": "ec21c7bb",
   "metadata": {},
   "outputs": [],
   "source": [
    "class _WikiTextDataset(torch.utils.data.Dataset):\n",
    "    def __init__(self, paragraphs, max_len):\n",
    "        # 输⼊`paragraphs[i]`是代表段落的句⼦字符串列表；⽽输出`paragraphs[i]`是代表段落的句⼦列表，其中每个句⼦都是词元列表\n",
    "        paragraphs = [d2l.tokenize(\n",
    "            paragraph, token='word') for paragraph in paragraphs]\n",
    "        sentences = [sentence for paragraph in paragraphs\n",
    "                     for sentence in paragraph]\n",
    "        self.vocab = d2l.Vocab(sentences, min_freq=5, reserved_tokens=[\n",
    "            '<pad>', '<mask>', '<cls>', '<sep>'])\n",
    "        # 获取下⼀句⼦预测任务的数据\n",
    "        examples = []\n",
    "        for paragraph in paragraphs:\n",
    "            examples.extend(_get_nsp_data_from_paragraph(\n",
    "                paragraph, paragraphs, self.vocab, max_len))\n",
    "        # 获取遮蔽语⾔模型任务的数据\n",
    "        examples = [(_get_mlm_data_from_tokens(tokens, self.vocab)\n",
    "                      + (segments, is_next))\n",
    "                     for tokens, segments, is_next in examples]\n",
    "        # 填充输⼊\n",
    "        (self.all_token_ids, self.all_segments, self.valid_lens,\n",
    "         self.all_pred_positions, self.all_mlm_weights,\n",
    "         self.all_mlm_labels, self.nsp_labels) = _pad_bert_inputs(\n",
    "            examples, max_len, self.vocab)\n",
    "\n",
    "    def __getitem__(self, idx):\n",
    "        return (self.all_token_ids[idx], self.all_segments[idx],\n",
    "                self.valid_lens[idx], self.all_pred_positions[idx],\n",
    "                self.all_mlm_weights[idx], self.all_mlm_labels[idx],\n",
    "                self.nsp_labels[idx])\n",
    "\n",
    "    def __len__(self):\n",
    "        return len(self.all_token_ids)"
   ]
  },
  {
   "cell_type": "markdown",
   "id": "c8a1e172",
   "metadata": {},
   "source": [
    "# 通过使⽤_read_wiki函数和_WikiTextDataset类，我们定义了下⾯的load_data_wiki来下载并⽣\n",
    "成WikiText-2数据集，并从中⽣成预训练样本。\n",
    "通过使⽤_read_wiki函数和_WikiTextDataset类，我们定义了下⾯的load_data_wiki来下载并⽣\n",
    "成WikiText-2数据集，并从中⽣成预训练样本。"
   ]
  },
  {
   "cell_type": "code",
   "execution_count": 9,
   "id": "d90aed09",
   "metadata": {},
   "outputs": [],
   "source": [
    "def load_data_wiki(batch_size, max_len):\n",
    "    \"\"\"Load the WikiText-2 dataset.\"\"\"\n",
    "    num_workers = d2l.get_dataloader_workers()\n",
    "    data_dir = d2l.download_extract('wikitext-2', 'wikitext-2')\n",
    "    paragraphs = _read_wiki(data_dir)\n",
    "    train_set = _WikiTextDataset(paragraphs, max_len)\n",
    "    train_iter = torch.utils.data.DataLoader(train_set, batch_size,\n",
    "                                        shuffle=True, num_workers=num_workers)\n",
    "    return train_iter, train_set.vocab"
   ]
  },
  {
   "cell_type": "markdown",
   "id": "2fedb83a",
   "metadata": {},
   "source": [
    "# Print out the shapes of a minibatch of BERT pretraining examples\n",
    "将批量⼤小设置为512，将BERT输⼊序列的最⼤⻓度设置为64，我们打印出小批量的BERT预训练样本的形\n",
    "状。注意，在每个BERT输⼊序列中，为遮蔽语⾔模型任务预测10（64 * 0.15）个位置"
   ]
  },
  {
   "cell_type": "code",
   "execution_count": null,
   "id": "0506af3d",
   "metadata": {},
   "outputs": [],
   "source": [
    "batch_size, max_len = 512, 64\n",
    "train_iter, vocab = load_data_wiki(batch_size, max_len)\n",
    "\n",
    "for (tokens_X, segments_X, valid_lens_x, pred_positions_X, mlm_weights_X,\n",
    "     mlm_Y, nsp_y) in train_iter:\n",
    "    print(tokens_X.shape, segments_X.shape, valid_lens_x.shape,\n",
    "          pred_positions_X.shape, mlm_weights_X.shape, mlm_Y.shape,\n",
    "          nsp_y.shape)\n",
    "    break"
   ]
  },
  {
   "cell_type": "code",
   "execution_count": null,
   "id": "351d5715",
   "metadata": {},
   "outputs": [],
   "source": [
    "len(vocab)"
   ]
  },
  {
   "cell_type": "code",
   "execution_count": null,
   "id": "ab102347",
   "metadata": {},
   "outputs": [],
   "source": []
  },
  {
   "cell_type": "code",
   "execution_count": null,
   "id": "43cf451a",
   "metadata": {},
   "outputs": [],
   "source": []
  },
  {
   "cell_type": "code",
   "execution_count": null,
   "id": "b17ae2ae",
   "metadata": {},
   "outputs": [],
   "source": []
  }
 ],
 "metadata": {
  "kernelspec": {
   "display_name": "Python 3",
   "language": "python",
   "name": "python3"
  },
  "language_info": {
   "codemirror_mode": {
    "name": "ipython",
    "version": 3
   },
   "file_extension": ".py",
   "mimetype": "text/x-python",
   "name": "python",
   "nbconvert_exporter": "python",
   "pygments_lexer": "ipython3",
   "version": "3.8.8"
  }
 },
 "nbformat": 4,
 "nbformat_minor": 5
}
