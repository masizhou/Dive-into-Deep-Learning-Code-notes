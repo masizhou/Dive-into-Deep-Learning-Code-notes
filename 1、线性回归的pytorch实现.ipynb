{
 "cells": [
  {
   "cell_type": "code",
   "execution_count": 5,
   "metadata": {},
   "outputs": [
    {
     "name": "stdout",
     "output_type": "stream",
     "text": [
      "0.007978677749633789\n"
     ]
    }
   ],
   "source": [
    "import torch\n",
    "from time import time\n",
    "\n",
    "a = torch.ones(1000)\n",
    "b = torch.ones(1000)\n",
    "c = torch.zeros(1000)\n",
    "start = time()\n",
    "for i in range(1000):\n",
    "    c[i] = a[i] + b[i]\n",
    "end = time()\n",
    "print(end - start)"
   ]
  },
  {
   "cell_type": "code",
   "execution_count": 6,
   "metadata": {},
   "outputs": [
    {
     "name": "stdout",
     "output_type": "stream",
     "text": [
      "0.0\n"
     ]
    }
   ],
   "source": [
    "start = time()\n",
    "d = a + b\n",
    "end = time()\n",
    "print(end - start)"
   ]
  },
  {
   "cell_type": "code",
   "execution_count": 44,
   "metadata": {},
   "outputs": [
    {
     "name": "stdout",
     "output_type": "stream",
     "text": [
      "tensor([-1.1765,  1.0795], dtype=torch.float64) tensor(-1.8156, dtype=torch.float64)\n"
     ]
    },
    {
     "data": {
      "text/plain": [
       "<matplotlib.collections.PathCollection at 0x26803dcacc0>"
      ]
     },
     "execution_count": 44,
     "metadata": {},
     "output_type": "execute_result"
    },
    {
     "data": {
      "image/png": "[encoded data removed]",
      "text/plain": [
       "<Figure size 432x288 with 1 Axes>"
      ]
     },
     "metadata": {
      "needs_background": "light"
     },
     "output_type": "display_data"
    }
   ],
   "source": [
    "%matplotlib inline\n",
    "import torch\n",
    "# import IPython import display\n",
    "from matplotlib import pyplot as plt\n",
    "import numpy as np\n",
    "import random\n",
    "\n",
    "\n",
    "# 1、生成数据集\n",
    "num_inputs = 2  # 特征数\n",
    "num_examples = 1000  # 样本数\n",
    "true_w = [2, -3.4] # 训练的参数\n",
    "true_b = 4.2  # 偏置\n",
    "features = torch.from_numpy(np.random.normal(0, 1, (num_examples, num_inputs))) # 生成训练数据集（1000个样本，每个样本两个特征）\n",
    "labels = true_w[0] * features[:, 0] + true_w[1] * features[:, 1] + true_b  # 给每个样本一个标签\n",
    "labels += torch.from_numpy(np.random.normal(0, 0.01, size=labels.size()))  # 给标签加入噪声\n",
    "\n",
    "print(features[0], labels[0]) # 第一个样本 和 标签 \n",
    "\n",
    "# def use_svg_display():\n",
    "#     # 用矢量图显示􁰁􀢶􀸔􁐏\n",
    "#     display.set_matplotlib_formats('svg')\n",
    "\n",
    "# def set_figsize(figsize=(3.5, 2.5)):\n",
    "#     use_svg_display()\n",
    "#     # 设置图的尺寸􀢶􁌱􀩮􀩑\n",
    "#     plt.rcParams['figure.figsize'] = figsize\n",
    "    \n",
    "# set_figsize()\n",
    "\n",
    "plt.scatter(features[:, 1].numpy(), labels.numpy(), 4)"
   ]
  },
  {
   "cell_type": "code",
   "execution_count": 45,
   "metadata": {},
   "outputs": [
    {
     "name": "stdout",
     "output_type": "stream",
     "text": [
      "tensor([[-0.4163,  0.4358],\n",
      "        [ 0.2433,  0.3422],\n",
      "        [-0.4262, -0.0500],\n",
      "        [-0.4062,  0.1689],\n",
      "        [ 0.5859, -0.3332],\n",
      "        [ 1.1944, -1.0145],\n",
      "        [ 0.0986, -0.3448],\n",
      "        [-0.9455,  0.0129],\n",
      "        [-0.1119,  0.3521],\n",
      "        [-2.2928,  0.4198]], dtype=torch.float64) tensor([ 1.8782,  3.5283,  3.5268,  2.8134,  6.5031, 10.0441,  5.5587,  2.2723,\n",
      "         2.7586, -1.8171], dtype=torch.float64)\n"
     ]
    }
   ],
   "source": [
    "# 2、读取数据\n",
    "def data_iter(batch_size, features, labels):\n",
    "    num_examples = len(features) # 样本的个数，也就是数据集的长度\n",
    "    indices = list(range(num_examples)) # 生成下标\n",
    "    random.shuffle(indices) # 将下标打乱，也就是将读取的样本打乱\n",
    "    for i in range(0, num_examples, batch_size): # 每次增加batch_size个数\n",
    "        j = torch.LongTensor(indices[i: min(i+batch_size, num_examples)]) # 最后一次可能不足一个batch\n",
    "        yield features.index_select(0, j), labels.index_select(0, j) # 此函数成为了一个生成器（可迭代）\n",
    "\n",
    "batch_size = 10 # 批量大小\n",
    "\n",
    "for x, y in data_iter(batch_size, features, labels):\n",
    "    print(x, y)\n",
    "    break\n",
    "    "
   ]
  },
  {
   "cell_type": "code",
   "execution_count": 46,
   "metadata": {},
   "outputs": [
    {
     "data": {
      "text/plain": [
       "tensor([0.], requires_grad=True)"
      ]
     },
     "execution_count": 46,
     "metadata": {},
     "output_type": "execute_result"
    }
   ],
   "source": [
    "# 3、初始化模型参数\n",
    "w = torch.tensor(np.random.normal(0, 0.01, (num_inputs, 1)))\n",
    "b = torch.zeros(1)\n",
    "w.requires_grad_(requires_grad=True) # 设置成可求导\n",
    "b.requires_grad_(requires_grad=True)\n",
    "# print(w)"
   ]
  },
  {
   "cell_type": "code",
   "execution_count": 47,
   "metadata": {},
   "outputs": [],
   "source": [
    "# 4、定义模型\n",
    "def linreg(x, w, b):\n",
    "    return torch.mm(x, w) + b"
   ]
  },
  {
   "cell_type": "code",
   "execution_count": 48,
   "metadata": {},
   "outputs": [],
   "source": [
    "# 5、定义损失函数\n",
    "def squared_loss(y_hat, y):\n",
    "    \"\"\"\n",
    "    y_hat：预测值\n",
    "    y：真实值\n",
    "    \"\"\"\n",
    "    return (y_hat - y.view(y_hat.shape))**2 / 2"
   ]
  },
  {
   "cell_type": "code",
   "execution_count": 49,
   "metadata": {},
   "outputs": [],
   "source": [
    "# 6、定义优化算法\n",
    "def sgd(params, lr, batch_size):\n",
    "    for param in params:\n",
    "        param.data -= lr * param.grad / batch_size"
   ]
  },
  {
   "cell_type": "code",
   "execution_count": 57,
   "metadata": {},
   "outputs": [
    {
     "name": "stdout",
     "output_type": "stream",
     "text": [
      "epoch 1,loss 0.0000491974\n",
      "epoch 2,loss 0.0000490747\n",
      "epoch 3,loss 0.0000490639\n"
     ]
    }
   ],
   "source": [
    "# 7、模型训练\n",
    "lr = 0.03\n",
    "num_epochs = 3\n",
    "net = linreg\n",
    "loss = squared_loss\n",
    "\n",
    "for epoch in range(num_epochs):\n",
    "    for x, y in data_iter(batch_size, features, labels):\n",
    "        l = loss(net(x, w, b), y).sum() # 由于loss最终算出来是个向量，所以我们要 求和 使之成为一个 一维向量 才能反向传播求导\n",
    "        l.backward() # 反向传播\n",
    "        sgd([w, b], lr, batch_size) # 使用小批量梯度下降法 迭代 模型参数\n",
    "        \n",
    "        # 训练参数的 梯度 要清零\n",
    "        w.grad.data.zero_()\n",
    "        b.grad.data.zero_()\n",
    "    train_l = loss(net(features, w, b), labels) # 将整个训练集 放入，求损失\n",
    "    print(f\"epoch {epoch+1},loss %.10f\" % train_l.mean().item())"
   ]
  },
  {
   "cell_type": "code",
   "execution_count": 59,
   "metadata": {},
   "outputs": [
    {
     "name": "stdout",
     "output_type": "stream",
     "text": [
      "[2, -3.4] \n",
      " tensor([[ 2.0002],\n",
      "        [-3.3991]], dtype=torch.float64, requires_grad=True)\n",
      "4.2 \n",
      " tensor([4.1997], requires_grad=True)\n"
     ]
    }
   ],
   "source": [
    "print(true_w, '\\n', w)\n",
    "print(true_b, '\\n', b)"
   ]
  },
  {
   "cell_type": "markdown",
   "metadata": {},
   "source": [
    "# 2、pytorch实现线性回归"
   ]
  },
  {
   "cell_type": "code",
   "execution_count": 1,
   "metadata": {},
   "outputs": [],
   "source": [
    "import torch\n",
    "import numpy as np"
   ]
  },
  {
   "cell_type": "code",
   "execution_count": 5,
   "metadata": {},
   "outputs": [],
   "source": [
    "# 1、生成数据集\n",
    "num_inputs = 2 # 每个样本的特征数量\n",
    "num_examples = 1000 # 样本个数\n",
    "true_w = [2, -3.4] # 真实权重\n",
    "true_b = 4.2 # 真实的偏差\n",
    "features = torch.tensor(np.random.normal(0, 1, (num_examples, num_inputs)), dtype=torch.float) # 输入数据\n",
    "labels = true_w[0] * features[:, 0] + true_w[1] * features[:, 1] + true_b\n",
    "labels += torch.tensor(np.random.normal(0, 0.01, size=labels.size()), dtype=torch.float) # 标签"
   ]
  },
  {
   "cell_type": "code",
   "execution_count": 14,
   "metadata": {},
   "outputs": [
    {
     "name": "stdout",
     "output_type": "stream",
     "text": [
      "tensor([[ 0.3838, -0.5323],\n",
      "        [ 0.1359,  0.2488],\n",
      "        [ 1.8823, -2.3210],\n",
      "        [-1.2696,  0.1488],\n",
      "        [-0.1907,  0.0127],\n",
      "        [ 0.0072, -0.2729],\n",
      "        [-1.1209, -0.5268],\n",
      "        [ 0.3589, -0.8970],\n",
      "        [ 0.4454,  1.1853],\n",
      "        [ 1.3123,  0.8807]]) tensor([ 6.7698,  3.6341, 15.8563,  1.1690,  3.7854,  5.1431,  3.7350,  7.9863,\n",
      "         1.0545,  3.8429])\n"
     ]
    }
   ],
   "source": [
    "# 2、读取数据\n",
    "import torch.utils.data as Data\n",
    "\n",
    "batch_size = 10\n",
    "# 将训练数据的特征和标签组合\n",
    "dataset = Data.TensorDataset(features, labels)\n",
    "# print(dataset)\n",
    "# 随机读取小批量\n",
    "data_iter = Data.DataLoader(dataset, batch_size, shuffle=True)\n",
    "# print(data_iter)\n",
    "\n",
    "for X, y in data_iter: # 读取并打印第一个小批量数据样本\n",
    "    print(X, y)\n",
    "    break"
   ]
  },
  {
   "cell_type": "code",
   "execution_count": 33,
   "metadata": {},
   "outputs": [
    {
     "name": "stdout",
     "output_type": "stream",
     "text": [
      "LinearNet(\n",
      "  (Linear): Linear(in_features=2, out_features=1, bias=True)\n",
      ")\n",
      "Parameter containing:\n",
      "tensor([[0.1219, 0.6963]], requires_grad=True)\n",
      "Parameter containing:\n",
      "tensor([-0.2382], requires_grad=True)\n"
     ]
    }
   ],
   "source": [
    "# 3、定义模型\n",
    "import torch.nn as nn\n",
    "\n",
    "class LinearNet(nn.Module):\n",
    "    def __init__(self, n_feature):\n",
    "        super(LinearNet, self).__init__() # 这句话的作用就是继承父类nn.Module的所有属性和方法\n",
    "        self.Linear = nn.Linear(n_feature, 1) # 输入了n_feature个特征，输出一个特征\n",
    "    \n",
    "    # 定义前向传播，这个就是pytorch实现的魔法方法，即在调用类实例化的对象时，就会自动调用这个方法\n",
    "    def forward(self, x):\n",
    "        y = self.Linear(x) # 将数据传入线性模型，然后得出一个结果，再把这个结果返回\n",
    "        return y\n",
    "\n",
    "net = LinearNet(num_inputs) # 实例化一个对象\n",
    "print(net) # 打印出这个网络\n",
    "y = net(features) # 相当于net.forward(fearures)，其实就是在传入数据实现 神经网络的 前向传播\n",
    "\n",
    "# net.parameters()来查看参数\n",
    "for param in net.parameters():\n",
    "    print(param)\n",
    "    \n",
    "# 也可以使用下面的方法来，简单的实现一个线性层（全连接层）\n",
    "net = nn.Sequential(\n",
    "            nn.Linear(num_inputs, 1)\n",
    "            # 此处也可以传入其他层\n",
    ")"
   ]
  },
  {
   "cell_type": "code",
   "execution_count": 34,
   "metadata": {},
   "outputs": [
    {
     "data": {
      "text/plain": [
       "Parameter containing:\n",
       "tensor([0.], requires_grad=True)"
      ]
     },
     "execution_count": 34,
     "metadata": {},
     "output_type": "execute_result"
    }
   ],
   "source": [
    "# 4、初始化模型参数\n",
    "from torch.nn import init\n",
    "\n",
    "init.normal_(net[0].weight, mean=0, std=0.01)\n",
    "init.constant_(net[0].bias, val=0) # 偏差初始化为0\n",
    "# 下面的形式 也可以把 偏差初始化为0\n",
    "# net[0].bias.data.fill_(0)"
   ]
  },
  {
   "cell_type": "code",
   "execution_count": 35,
   "metadata": {},
   "outputs": [],
   "source": [
    "# 5、定义损失函数\n",
    "loss = nn.MSELoss()"
   ]
  },
  {
   "cell_type": "code",
   "execution_count": 41,
   "metadata": {},
   "outputs": [
    {
     "name": "stdout",
     "output_type": "stream",
     "text": [
      "SGD (\n",
      "Parameter Group 0\n",
      "    dampening: 0\n",
      "    lr: 0.03\n",
      "    momentum: 0\n",
      "    nesterov: False\n",
      "    weight_decay: 0\n",
      ")\n"
     ]
    }
   ],
   "source": [
    "# 6、定义优化算法\n",
    "import torch.optim as optim\n",
    "\n",
    "optimizer = optim.SGD(net.parameters(), lr=0.03)\n",
    "print(optimizer)\n",
    "\n",
    "\n",
    "# 为不同的子网络设置不同的学习率\n",
    "# optimizer =optim.SGD([\n",
    "#                 # 如果对某个参数不指定学习率，就是用最外层的默认学习率􀦇􀺎􀩒􀺤􀓻􀝇􀷄􀓧􀳰􀨧􀨍􀔟􁈲􀒅􀩪􀖵􁊠􀹋􀥘􀩶􁌱􁼕􁦊􀨍􀔟􁈲\n",
    "#                 {'params': net.subnet1.parameters()}, # lr=0.03\n",
    "#                 {'params': net.subnet2.parameters(), 'lr': 0.01}\n",
    "# ], lr=0.03)\n",
    "# print(optimizer)"
   ]
  },
  {
   "cell_type": "code",
   "execution_count": 44,
   "metadata": {},
   "outputs": [
    {
     "name": "stdout",
     "output_type": "stream",
     "text": [
      "epoch:0, loss:0.000110\n",
      "epoch:1, loss:0.000088\n",
      "epoch:2, loss:0.000085\n",
      "epoch:3, loss:0.000088\n",
      "epoch:4, loss:0.000055\n",
      "epoch:5, loss:0.000158\n",
      "epoch:6, loss:0.000089\n",
      "epoch:7, loss:0.000071\n",
      "epoch:8, loss:0.000141\n",
      "epoch:9, loss:0.000179\n",
      "epoch:10, loss:0.000123\n",
      "epoch:11, loss:0.000091\n",
      "epoch:12, loss:0.000161\n",
      "epoch:13, loss:0.000179\n",
      "epoch:14, loss:0.000069\n",
      "epoch:15, loss:0.000090\n",
      "epoch:16, loss:0.000163\n",
      "epoch:17, loss:0.000223\n",
      "epoch:18, loss:0.000117\n",
      "epoch:19, loss:0.000052\n",
      "epoch:20, loss:0.000133\n",
      "epoch:21, loss:0.000181\n",
      "epoch:22, loss:0.000176\n",
      "epoch:23, loss:0.000062\n",
      "epoch:24, loss:0.000129\n",
      "epoch:25, loss:0.000409\n",
      "epoch:26, loss:0.000161\n",
      "epoch:27, loss:0.000144\n",
      "epoch:28, loss:0.000404\n",
      "epoch:29, loss:0.000072\n"
     ]
    }
   ],
   "source": [
    "# 7、训练模型\n",
    "num_epochs = 30\n",
    "for epoch in range(num_epochs):\n",
    "    for x, y in data_iter:\n",
    "        output = net(x) # 预测结果\n",
    "        l = loss(output, y.view(-1, 1))\n",
    "        optimizer.zero_grad() # 梯度清零，等价于net.zero_grad()\n",
    "        l.backward() # 反向传播\n",
    "        optimizer.step() # 更新参数\n",
    "    print(\"epoch:%d, loss:%f\" % (epoch, l.item()))"
   ]
  },
  {
   "cell_type": "code",
   "execution_count": 45,
   "metadata": {},
   "outputs": [
    {
     "name": "stdout",
     "output_type": "stream",
     "text": [
      "[2, -3.4] Parameter containing:\n",
      "tensor([[ 1.9984, -3.3992]], requires_grad=True)\n"
     ]
    }
   ],
   "source": [
    "dense = net[0]\n",
    "print(true_w, dense.weight)"
   ]
  },
  {
   "cell_type": "code",
   "execution_count": null,
   "metadata": {},
   "outputs": [],
   "source": []
  },
  {
   "cell_type": "code",
   "execution_count": null,
   "metadata": {},
   "outputs": [],
   "source": []
  },
  {
   "cell_type": "code",
   "execution_count": null,
   "metadata": {},
   "outputs": [],
   "source": []
  },
  {
   "cell_type": "code",
   "execution_count": null,
   "metadata": {},
   "outputs": [],
   "source": []
  },
  {
   "cell_type": "code",
   "execution_count": null,
   "metadata": {},
   "outputs": [],
   "source": []
  },
  {
   "cell_type": "code",
   "execution_count": null,
   "metadata": {},
   "outputs": [],
   "source": []
  },
  {
   "cell_type": "code",
   "execution_count": null,
   "metadata": {},
   "outputs": [],
   "source": []
  },
  {
   "cell_type": "code",
   "execution_count": null,
   "metadata": {},
   "outputs": [],
   "source": []
  }
 ],
 "metadata": {
  "kernelspec": {
   "display_name": "Python 3",
   "language": "python",
   "name": "python3"
  },
  "language_info": {
   "codemirror_mode": {
    "name": "ipython",
    "version": 3
   },
   "file_extension": ".py",
   "mimetype": "text/x-python",
   "name": "python",
   "nbconvert_exporter": "python",
   "pygments_lexer": "ipython3",
   "version": "3.8.8"
  }
 },
 "nbformat": 4,
 "nbformat_minor": 2
}
