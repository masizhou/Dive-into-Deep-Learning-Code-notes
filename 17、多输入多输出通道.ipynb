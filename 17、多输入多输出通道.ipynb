{
 "cells": [
  {
   "cell_type": "markdown",
   "id": "4621de58",
   "metadata": {},
   "source": [
    "实现一下多输入通道互相关运算（互相关运算和卷积很相似）"
   ]
  },
  {
   "cell_type": "code",
   "execution_count": 1,
   "id": "29957e3e",
   "metadata": {},
   "outputs": [],
   "source": [
    "import torch\n",
    "from d2l import torch as d2l\n",
    "\n",
    "def corr2d_multi_in(X, K):\n",
    "    return sum(d2l.corr2d(x, k) for x, k in zip(X, K)) # 在0维度遍历，把0维度的每个元素取出来（是个矩阵），进行互相关运算"
   ]
  },
  {
   "cell_type": "markdown",
   "id": "208b2201",
   "metadata": {},
   "source": [
    "验证互相关运算的输出"
   ]
  },
  {
   "cell_type": "code",
   "execution_count": 11,
   "id": "26ab7150",
   "metadata": {},
   "outputs": [
    {
     "data": {
      "text/plain": [
       "tensor([[ 56.,  72.],\n",
       "        [104., 120.]])"
      ]
     },
     "execution_count": 11,
     "metadata": {},
     "output_type": "execute_result"
    }
   ],
   "source": [
    "X = torch.tensor([[[0.0, 1.0, 2.0], [3.0, 4.0, 5.0], [6.0, 7.0, 8.0]],\n",
    "                  [[1.0, 2.0, 3.0], [4.0, 5.0, 6.0], [7.0, 8.0, 9.0]]]) # [2, 3, 3]\n",
    "K = torch.tensor([[[0.0, 1.0], [2.0, 3.0]], [[1.0, 2.0], [3.0, 4.0]]]) # [2, 2, 2]\n",
    "\n",
    "corr2d_multi_in(X, K)"
   ]
  },
  {
   "cell_type": "markdown",
   "id": "db1d900d",
   "metadata": {},
   "source": [
    "计算多个通道的输出的互相关函数"
   ]
  },
  {
   "cell_type": "code",
   "execution_count": 12,
   "id": "f596b70c",
   "metadata": {},
   "outputs": [
    {
     "data": {
      "text/plain": [
       "torch.Size([3, 2, 2, 2])"
      ]
     },
     "execution_count": 12,
     "metadata": {},
     "output_type": "execute_result"
    }
   ],
   "source": [
    "def corr2d_multi_in_out(X, K):\n",
    "    return torch.stack([corr2d_multi_in(X, k) for k in K], 0)\n",
    "\n",
    "K = torch.stack((K, K + 1, K + 2), 0)\n",
    "K.shape"
   ]
  },
  {
   "cell_type": "code",
   "execution_count": 14,
   "id": "d95947e7",
   "metadata": {},
   "outputs": [
    {
     "data": {
      "text/plain": [
       "tensor([[[ 56.,  72.],\n",
       "         [104., 120.]],\n",
       "\n",
       "        [[ 76., 100.],\n",
       "         [148., 172.]],\n",
       "\n",
       "        [[ 96., 128.],\n",
       "         [192., 224.]]])"
      ]
     },
     "execution_count": 14,
     "metadata": {},
     "output_type": "execute_result"
    }
   ],
   "source": [
    "corr2d_multi_in_out(X, K) # 多输出通道，实际上就是进行了多次的单输出通道罢了"
   ]
  },
  {
   "cell_type": "markdown",
   "id": "13c5b707",
   "metadata": {},
   "source": [
    "1x1卷积（实际上就是全连接层罢了，作用是：融合不同通道的特征）"
   ]
  },
  {
   "cell_type": "code",
   "execution_count": 19,
   "id": "4e17a4c6",
   "metadata": {},
   "outputs": [
    {
     "data": {
      "text/plain": [
       "tensor([[[True, True, True],\n",
       "         [True, True, True],\n",
       "         [True, True, True]],\n",
       "\n",
       "        [[True, True, True],\n",
       "         [True, True, True],\n",
       "         [True, True, True]]])"
      ]
     },
     "execution_count": 19,
     "metadata": {},
     "output_type": "execute_result"
    }
   ],
   "source": [
    "def corr2d_multi_in_out_1x1(X, K):\n",
    "    c_i, h, w = X.shape # 输入的图片一般是：通道数、高、宽\n",
    "    c_o = K.shape[0] # 输出通道数、输入通道数、核高、核宽\n",
    "    X = X.reshape((c_i, h * w)) # 将高和宽拉成向量\n",
    "    K = K.reshape((c_o, c_i)) # 因为1*1的卷积 核高、核宽都为1，因此直接reshape0维度和1维度罢了\n",
    "    Y = torch.matmul(K, X) # 进行矩阵乘法\n",
    "    return Y.reshape((c_o, h, w)) # 恢复高和宽\n",
    "\n",
    "X = torch.normal(0, 1, (3, 3, 3))\n",
    "K = torch.normal(0, 1, (2, 3, 1, 1))\n",
    "\n",
    "Y1 = corr2d_multi_in_out_1x1(X, K)\n",
    "Y2 = corr2d_multi_in_out(X, K)\n",
    "assert float(torch.abs(Y1 - Y2).sum()) < 1e-6 # 不满足条件，则抛出异常\n",
    "Y1==Y2"
   ]
  },
  {
   "cell_type": "code",
   "execution_count": null,
   "id": "de3e52e0",
   "metadata": {},
   "outputs": [],
   "source": []
  }
 ],
 "metadata": {
  "kernelspec": {
   "display_name": "Python 3",
   "language": "python",
   "name": "python3"
  },
  "language_info": {
   "codemirror_mode": {
    "name": "ipython",
    "version": 3
   },
   "file_extension": ".py",
   "mimetype": "text/x-python",
   "name": "python",
   "nbconvert_exporter": "python",
   "pygments_lexer": "ipython3",
   "version": "3.8.8"
  }
 },
 "nbformat": 4,
 "nbformat_minor": 5
}
